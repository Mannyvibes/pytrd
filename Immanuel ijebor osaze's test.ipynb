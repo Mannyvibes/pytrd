{
 "cells": [
  {
   "cell_type": "markdown",
   "id": "99dcc3d6",
   "metadata": {},
   "source": [
    "1.Write a NumPy program to get the numpy version and show numpy build configuration. "
   ]
  },
  {
   "cell_type": "code",
   "execution_count": 46,
   "id": "f6dd3e8a",
   "metadata": {},
   "outputs": [
    {
     "name": "stdout",
     "output_type": "stream",
     "text": [
      "add(x1, x2, /, out=None, *, where=True, casting='same_kind', order='K', dtype=None, subok=True[, signature, extobj])\n",
      "\n",
      "Add arguments element-wise.\n",
      "\n",
      "Parameters\n",
      "----------\n",
      "x1, x2 : array_like\n",
      "    The arrays to be added.\n",
      "    If ``x1.shape != x2.shape``, they must be broadcastable to a common\n",
      "    shape (which becomes the shape of the output).\n",
      "out : ndarray, None, or tuple of ndarray and None, optional\n",
      "    A location into which the result is stored. If provided, it must have\n",
      "    a shape that the inputs broadcast to. If not provided or None,\n",
      "    a freshly-allocated array is returned. A tuple (possible only as a\n",
      "    keyword argument) must have length equal to the number of outputs.\n",
      "where : array_like, optional\n",
      "    This condition is broadcast over the input. At locations where the\n",
      "    condition is True, the `out` array will be set to the ufunc result.\n",
      "    Elsewhere, the `out` array will retain its original value.\n",
      "    Note that if an uninitialized `out` array is created via the default\n",
      "    ``out=None``, locations within it where the condition is False will\n",
      "    remain uninitialized.\n",
      "**kwargs\n",
      "    For other keyword-only arguments, see the\n",
      "    :ref:`ufunc docs <ufuncs.kwargs>`.\n",
      "\n",
      "Returns\n",
      "-------\n",
      "add : ndarray or scalar\n",
      "    The sum of `x1` and `x2`, element-wise.\n",
      "    This is a scalar if both `x1` and `x2` are scalars.\n",
      "\n",
      "Notes\n",
      "-----\n",
      "Equivalent to `x1` + `x2` in terms of array broadcasting.\n",
      "\n",
      "Examples\n",
      "--------\n",
      ">>> np.add(1.0, 4.0)\n",
      "5.0\n",
      ">>> x1 = np.arange(9.0).reshape((3, 3))\n",
      ">>> x2 = np.arange(3.0)\n",
      ">>> np.add(x1, x2)\n",
      "array([[  0.,   2.,   4.],\n",
      "       [  3.,   5.,   7.],\n",
      "       [  6.,   8.,  10.]])\n",
      "\n",
      "The ``+`` operator can be used as a shorthand for ``np.add`` on ndarrays.\n",
      "\n",
      ">>> x1 = np.arange(9.0).reshape((3, 3))\n",
      ">>> x2 = np.arange(3.0)\n",
      ">>> x1 + x2\n",
      "array([[ 0.,  2.,  4.],\n",
      "       [ 3.,  5.,  7.],\n",
      "       [ 6.,  8., 10.]])\n",
      "None\n"
     ]
    }
   ],
   "source": [
    "print(np.info(np.add))"
   ]
  },
  {
   "cell_type": "markdown",
   "id": "88921b89",
   "metadata": {},
   "source": [
    "3. Write a NumPy program to test whether none of the elements of a given array is zero. ."
   ]
  },
  {
   "cell_type": "code",
   "execution_count": 31,
   "id": "aede57fc",
   "metadata": {},
   "outputs": [
    {
     "name": "stdout",
     "output_type": "stream",
     "text": [
      "original array:\n",
      "[1 2 3 4]\n",
      "Test if none of  the element of the said array is zero:\n",
      "True\n",
      "original array:\n",
      "[1 2 3 4]\n",
      "Test if none of the element  of the said array is zero\n",
      "True\n"
     ]
    }
   ],
   "source": [
    "x = np.array([1, 2, 3, 4])\n",
    "print(\"original array:\")\n",
    "print(x)\n",
    "print(\"Test if none of  the element of the said array is zero:\")\n",
    "print(np.all(x))\n",
    "x = np.array([1, 2, 3, 4])\n",
    "print(\"original array:\")\n",
    "print(x)\n",
    "print(\"Test if none of the element  of the said array is zero\")\n",
    "print(np.all(x))\n",
    "      \n",
    "      "
   ]
  },
  {
   "cell_type": "markdown",
   "id": "367434e9",
   "metadata": {},
   "source": [
    "4. Write a NumPy program to test whether any of the elements of a given array is non-zero. ."
   ]
  },
  {
   "cell_type": "code",
   "execution_count": 34,
   "id": "1b66ff82",
   "metadata": {},
   "outputs": [
    {
     "name": "stdout",
     "output_type": "stream",
     "text": [
      "original array\n",
      "[1 0 0 0]\n",
      "Test whether any of the elements of a given array is zero\n",
      "True\n",
      "original array\n",
      "[1 0 0 0]\n",
      "Test whether any of the elements of a given array is zero\n",
      "True\n"
     ]
    }
   ],
   "source": [
    "x = np.array([1, 0, 0, 0])\n",
    "print(\"original array\")\n",
    "print(x)\n",
    "print(\"Test whether any of the elements of a given array is zero\")\n",
    "print(np.any(x))\n",
    "x = np.array([1, 0, 0, 0])\n",
    "print(\"original array\")\n",
    "print(x)\n",
    "print(\"Test whether any of the elements of a given array is zero\")\n",
    "print(np.any(x))"
   ]
  },
  {
   "cell_type": "code",
   "execution_count": null,
   "id": "6a6f8c96",
   "metadata": {},
   "outputs": [],
   "source": [
    "5. Write a NumPy program to test a given array element-wise for finiteness (not infinity or not a Number). \n",
    "\n"
   ]
  },
  {
   "cell_type": "code",
   "execution_count": null,
   "id": "058807cb",
   "metadata": {},
   "outputs": [],
   "source": []
  },
  {
   "cell_type": "markdown",
   "id": "36f6aee0",
   "metadata": {},
   "source": [
    "6. Write a NumPy program to test element-wise for positive or negative infinity. "
   ]
  },
  {
   "cell_type": "code",
   "execution_count": 38,
   "id": "fa6c8749",
   "metadata": {},
   "outputs": [
    {
     "name": "stdout",
     "output_type": "stream",
     "text": [
      "original array\n",
      "[ 1.  0. nan inf]\n",
      "Test  element-wise for positive and negative infinity:\n",
      "[False False False  True]\n"
     ]
    }
   ],
   "source": [
    "a = np.array([1, 0, np.nan, np.inf])\n",
    "print(\"original array\")\n",
    "print(a)\n",
    "print(\"Test  element-wise for positive and negative infinity:\")\n",
    "print(np.isinf(a))"
   ]
  },
  {
   "cell_type": "markdown",
   "id": "7ea558d8",
   "metadata": {},
   "source": [
    "7. Write a NumPy program to test element-wise for NaN of a given array.\n"
   ]
  },
  {
   "cell_type": "code",
   "execution_count": 50,
   "id": "44493118",
   "metadata": {},
   "outputs": [
    {
     "name": "stdout",
     "output_type": "stream",
     "text": [
      "original array\n",
      "[ 1.  0. nan inf]\n",
      "Test element-wise for Nan:\n",
      "[False False  True False]\n"
     ]
    }
   ],
   "source": [
    "a = np.array([1, 0, np.nan, np.inf])\n",
    "print(\"original array\")\n",
    "print(a)\n",
    "print(\"Test element-wise for Nan:\")\n",
    "print(np.isnan(a))"
   ]
  },
  {
   "cell_type": "markdown",
   "id": "c408a40f",
   "metadata": {},
   "source": [
    "8. Write a NumPy program to test element-wise for complex number, real number of a given array. Also test whether a given number is a scalar type or not. "
   ]
  },
  {
   "cell_type": "code",
   "execution_count": 57,
   "id": "25a6c034",
   "metadata": {},
   "outputs": [
    {
     "name": "stdout",
     "output_type": "stream",
     "text": [
      "original array\n",
      "[1. +1.j 1. +0.j 4.5+0.j 3. +0.j 2. +0.j 0. +2.j]\n",
      "Checking for complex number:\n",
      "[ True False False False False  True]\n",
      "Checking for real numbers:\n",
      "[False  True  True  True  True False]\n",
      "Checking for scalar vector:\n",
      "True\n",
      "False\n"
     ]
    }
   ],
   "source": [
    "a = np.array([1+1j, 1+0j, 4.5, 3, 2, 2j])\n",
    "print(\"original array\")\n",
    "print(a)\n",
    "print(\"Checking for complex number:\")\n",
    "print(np.iscomplex(a))\n",
    "print(\"Checking for real numbers:\")\n",
    "print(np.isreal(a))\n",
    "print(\"Checking for scalar vector:\")\n",
    "print(np.isscalar(3.1) )\n",
    "print(np.isscalar([3.1]))"
   ]
  },
  {
   "cell_type": "markdown",
   "id": "3831a747",
   "metadata": {},
   "source": [
    "9. Write a NumPy program to test whether two arrays are element-wise equal within a tolerance. \n"
   ]
  },
  {
   "cell_type": "code",
   "execution_count": 58,
   "id": "81dd1dda",
   "metadata": {},
   "outputs": [
    {
     "name": "stdout",
     "output_type": "stream",
     "text": [
      "Test if two arrays are element-wise equal within a tolerance:\n",
      "False\n",
      "True\n",
      "False\n",
      "False\n",
      "True\n"
     ]
    }
   ],
   "source": [
    "print(\"Test if two arrays are element-wise equal within a tolerance:\")\n",
    "print(np.allclose([1e10,1e-7], [1.00001e10,1e-8]))\n",
    "print(np.allclose([1e10,1e-8], [1.00001e10,1e-9]))\n",
    "print(np.allclose([1e10,1e-8], [1.0001e10,1e-9]))\n",
    "print(np.allclose([1.0, np.nan], [1.0, np.nan]))\n",
    "print(np.allclose([1.0, np.nan], [1.0, np.nan], equal_nan=True))"
   ]
  },
  {
   "cell_type": "markdown",
   "id": "f08b9a5c",
   "metadata": {},
   "source": [
    "10. Write a NumPy program to create an element-wise comparison (greater, greater_equal, less and less_equal) of two given arrays.\n"
   ]
  },
  {
   "cell_type": "code",
   "execution_count": 59,
   "id": "ff4f929f",
   "metadata": {},
   "outputs": [
    {
     "name": "stdout",
     "output_type": "stream",
     "text": [
      "Original numbers:\n",
      "[3 5]\n",
      "[2 5]\n",
      "Comparison - greater\n",
      "[ True False]\n",
      "Comparison - greater_equal\n",
      "[ True  True]\n",
      "Comparison - less\n",
      "[False False]\n",
      "Comparison - less_equal\n",
      "[False  True]\n"
     ]
    }
   ],
   "source": [
    "x = np.array([3, 5])\n",
    "y = np.array([2, 5])\n",
    "print(\"Original numbers:\")\n",
    "print(x)\n",
    "print(y)\n",
    "print(\"Comparison - greater\")\n",
    "print(np.greater(x, y))\n",
    "print(\"Comparison - greater_equal\")\n",
    "print(np.greater_equal(x, y))\n",
    "print(\"Comparison - less\")\n",
    "print(np.less(x, y))\n",
    "print(\"Comparison - less_equal\")\n",
    "print(np.less_equal(x, y))"
   ]
  },
  {
   "cell_type": "markdown",
   "id": "99d960dd",
   "metadata": {},
   "source": [
    "11. Write a NumPy program to create an element-wise comparison (equal, equal within a tolerance) of two given arrays."
   ]
  },
  {
   "cell_type": "code",
   "execution_count": 60,
   "id": "b9490769",
   "metadata": {},
   "outputs": [
    {
     "name": "stdout",
     "output_type": "stream",
     "text": [
      "Original numbers:\n",
      "[3 5]\n",
      "[  72.         79.         85.         90.        150.       -135.\n",
      "  120.        -10.         60.        100.000001]\n",
      "Comparison - equal:\n"
     ]
    },
    {
     "ename": "ValueError",
     "evalue": "operands could not be broadcast together with shapes (2,) (10,) ",
     "output_type": "error",
     "traceback": [
      "\u001b[1;31m---------------------------------------------------------------------------\u001b[0m",
      "\u001b[1;31mValueError\u001b[0m                                Traceback (most recent call last)",
      "\u001b[1;32m~\\AppData\\Local\\Temp/ipykernel_8456/76121865.py\u001b[0m in \u001b[0;36m<module>\u001b[1;34m\u001b[0m\n\u001b[0;32m      5\u001b[0m \u001b[0mprint\u001b[0m\u001b[1;33m(\u001b[0m\u001b[0my\u001b[0m\u001b[1;33m)\u001b[0m\u001b[1;33m\u001b[0m\u001b[1;33m\u001b[0m\u001b[0m\n\u001b[0;32m      6\u001b[0m \u001b[0mprint\u001b[0m\u001b[1;33m(\u001b[0m\u001b[1;34m\"Comparison - equal:\"\u001b[0m\u001b[1;33m)\u001b[0m\u001b[1;33m\u001b[0m\u001b[1;33m\u001b[0m\u001b[0m\n\u001b[1;32m----> 7\u001b[1;33m \u001b[0mprint\u001b[0m\u001b[1;33m(\u001b[0m\u001b[0mnp\u001b[0m\u001b[1;33m.\u001b[0m\u001b[0mequal\u001b[0m\u001b[1;33m(\u001b[0m\u001b[0mx\u001b[0m\u001b[1;33m,\u001b[0m \u001b[0my\u001b[0m\u001b[1;33m)\u001b[0m\u001b[1;33m)\u001b[0m\u001b[1;33m\u001b[0m\u001b[1;33m\u001b[0m\u001b[0m\n\u001b[0m\u001b[0;32m      8\u001b[0m \u001b[0mprint\u001b[0m\u001b[1;33m(\u001b[0m\u001b[1;34m\"Comparison - equal within a tolerance:\"\u001b[0m\u001b[1;33m)\u001b[0m\u001b[1;33m\u001b[0m\u001b[1;33m\u001b[0m\u001b[0m\n\u001b[0;32m      9\u001b[0m \u001b[0mprint\u001b[0m\u001b[1;33m(\u001b[0m\u001b[0mnp\u001b[0m\u001b[1;33m.\u001b[0m\u001b[0mallclose\u001b[0m\u001b[1;33m(\u001b[0m\u001b[0mx\u001b[0m\u001b[1;33m,\u001b[0m \u001b[0my\u001b[0m\u001b[1;33m)\u001b[0m\u001b[1;33m)\u001b[0m\u001b[1;33m\u001b[0m\u001b[1;33m\u001b[0m\u001b[0m\n",
      "\u001b[1;31mValueError\u001b[0m: operands could not be broadcast together with shapes (2,) (10,) "
     ]
    }
   ],
   "source": [
    "np.array([72, 79, 85, 90, 150, -135, 120, -10, 60, 100]) \n",
    "y = np.array([72, 79, 85, 90, 150, -135, 120, -10, 60, 100.000001])\n",
    "print(\"Original numbers:\")\n",
    "print(x)\n",
    "print(y)\n",
    "print(\"Comparison - equal:\")\n",
    "print(np.equal(x, y))\n",
    "print(\"Comparison - equal within a tolerance:\")\n",
    "print(np.allclose(x, y))"
   ]
  },
  {
   "cell_type": "markdown",
   "id": "fc4168b6",
   "metadata": {},
   "source": [
    "12. Write a NumPy program to create an array with the values 1, 7, 13, 105 and determine the size of the memory occupied by the array. .\n"
   ]
  },
  {
   "cell_type": "code",
   "execution_count": null,
   "id": "295d7e16",
   "metadata": {},
   "outputs": [],
   "source": []
  },
  {
   "cell_type": "markdown",
   "id": "66ad4faa",
   "metadata": {},
   "source": [
    "14. Write a NumPy program to create an array of the integers from 30 to70. ."
   ]
  },
  {
   "cell_type": "code",
   "execution_count": null,
   "id": "5578592f",
   "metadata": {},
   "outputs": [],
   "source": [
    "import numpy as np"
   ]
  },
  {
   "cell_type": "code",
   "execution_count": 2,
   "id": "d956e5a6",
   "metadata": {},
   "outputs": [
    {
     "data": {
      "text/plain": [
       "array([30, 31, 32, 33, 34, 35, 36, 37, 38, 39, 40, 41, 42, 43, 44, 45, 46,\n",
       "       47, 48, 49, 50, 51, 52, 53, 54, 55, 56, 57, 58, 59, 60, 61, 62, 63,\n",
       "       64, 65, 66, 67, 68, 69, 70])"
      ]
     },
     "execution_count": 2,
     "metadata": {},
     "output_type": "execute_result"
    }
   ],
   "source": [
    "np.arange(30,71)"
   ]
  },
  {
   "cell_type": "markdown",
   "id": "c5bb178f",
   "metadata": {},
   "source": [
    "16. Write a NumPy program to create a 3x3 identity matrix. \n"
   ]
  },
  {
   "cell_type": "code",
   "execution_count": 24,
   "id": "71bab4e2",
   "metadata": {},
   "outputs": [
    {
     "data": {
      "text/plain": [
       "array([[0, 1, 2],\n",
       "       [3, 4, 5],\n",
       "       [6, 7, 8]])"
      ]
     },
     "execution_count": 24,
     "metadata": {},
     "output_type": "execute_result"
    }
   ],
   "source": [
    "np.array ([[0,1,2],[3,4,5],[6,7,8]])"
   ]
  },
  {
   "cell_type": "markdown",
   "id": "48d1fe26",
   "metadata": {},
   "source": [
    "17. Write a NumPy program to generate a random number between 0 and 1. ."
   ]
  },
  {
   "cell_type": "code",
   "execution_count": 7,
   "id": "c84c6fbe",
   "metadata": {},
   "outputs": [
    {
     "data": {
      "text/plain": [
       "array([0.73000641])"
      ]
     },
     "execution_count": 7,
     "metadata": {},
     "output_type": "execute_result"
    }
   ],
   "source": [
    "np.random.rand(1)"
   ]
  },
  {
   "cell_type": "markdown",
   "id": "ecc08e98",
   "metadata": {},
   "source": [
    "18. Write a NumPy program to generate an array of 15 random numbers from a\n",
    "standard normal distribution. ."
   ]
  },
  {
   "cell_type": "code",
   "execution_count": 13,
   "id": "2967cbb4",
   "metadata": {},
   "outputs": [
    {
     "data": {
      "text/plain": [
       "array([ 0.97379969,  0.26707657,  0.63327751,  0.46963748,  2.12680821,\n",
       "       -1.04825292,  1.23823399, -0.93339405, -0.98215471, -0.91762185,\n",
       "       -0.00722977, -1.08790415,  1.00766459, -0.1905929 ,  0.80466332])"
      ]
     },
     "execution_count": 13,
     "metadata": {},
     "output_type": "execute_result"
    }
   ],
   "source": [
    "np.random.standard_normal(15)"
   ]
  },
  {
   "cell_type": "markdown",
   "id": "47802321",
   "metadata": {},
   "source": [
    "19. Write a NumPy program to create a vector with values ranging from 15 to 55\n",
    "and print all values except the first and last. ."
   ]
  },
  {
   "cell_type": "code",
   "execution_count": 32,
   "id": "26dbd724",
   "metadata": {},
   "outputs": [
    {
     "data": {
      "text/plain": [
       "array([15, 16, 17, 18, 19, 20, 21, 22, 23, 24, 25, 26, 27, 28, 29, 30, 31,\n",
       "       32, 33, 34, 35, 36, 37, 38, 39, 40, 41, 42, 43, 44, 45, 46, 47, 48,\n",
       "       49, 50, 51, 52, 53, 54])"
      ]
     },
     "execution_count": 32,
     "metadata": {},
     "output_type": "execute_result"
    }
   ],
   "source": [
    "v= np.arange(15,55)\n",
    "v[1:-1]\n",
    "v "
   ]
  },
  {
   "cell_type": "markdown",
   "id": "6024af75",
   "metadata": {},
   "source": [
    "20. Write a NumPy program to create a 3X4 array using and iterate over it. ."
   ]
  },
  {
   "cell_type": "code",
   "execution_count": 33,
   "id": "a3121739",
   "metadata": {},
   "outputs": [
    {
     "name": "stdout",
     "output_type": "stream",
     "text": [
      "0 1 2 3 4 5 6 7 8 9 10 11 "
     ]
    }
   ],
   "source": [
    "v=np.arange(0,12).reshape(3,4)\n",
    "for i in np.nditer(v):\n",
    "    print(i,end=\" \")"
   ]
  },
  {
   "cell_type": "markdown",
   "id": "9d41fb20",
   "metadata": {},
   "source": [
    "21. Write a NumPy program to create a vector of length 10 with values evenly\n",
    "distributed between 5 and 50. ."
   ]
  },
  {
   "cell_type": "code",
   "execution_count": 34,
   "id": "bd6fbb80",
   "metadata": {},
   "outputs": [
    {
     "data": {
      "text/plain": [
       "array([ 5., 10., 15., 20., 25., 30., 35., 40., 45., 50.])"
      ]
     },
     "execution_count": 34,
     "metadata": {},
     "output_type": "execute_result"
    }
   ],
   "source": [
    "v= np.linspace(5,50,10)\n",
    "v"
   ]
  },
  {
   "cell_type": "markdown",
   "id": "586315cd",
   "metadata": {},
   "source": [
    "22. Write a NumPy program to create a vector with values from 0 to 20 and\n",
    "change the sign of the numbers in the range from 9 to 15. ."
   ]
  },
  {
   "cell_type": "code",
   "execution_count": 37,
   "id": "d317977c",
   "metadata": {},
   "outputs": [
    {
     "data": {
      "text/plain": [
       "array([ 0,  1,  2,  3,  4,  5,  6,  7,  8,  9, 10, 11, 12, 13, 14, 15, 16,\n",
       "       17, 18, 19, 20])"
      ]
     },
     "execution_count": 37,
     "metadata": {},
     "output_type": "execute_result"
    }
   ],
   "source": [
    "b=np.arange(0,21)\n",
    "b[9:15] = b[9:15]*1\n",
    "b"
   ]
  },
  {
   "cell_type": "markdown",
   "id": "1d66a914",
   "metadata": {},
   "source": [
    "23. Write a NumPy program to create a vector of length 5 filled with arbitrary\n",
    "integers from 0 to 10. ."
   ]
  },
  {
   "cell_type": "code",
   "execution_count": 47,
   "id": "6f8568c1",
   "metadata": {},
   "outputs": [
    {
     "data": {
      "text/plain": [
       "array([8, 7, 5, 6, 9])"
      ]
     },
     "execution_count": 47,
     "metadata": {},
     "output_type": "execute_result"
    }
   ],
   "source": [
    "a =np.random.randint(0,10,5)\n",
    "a"
   ]
  },
  {
   "cell_type": "markdown",
   "id": "9a2aa505",
   "metadata": {},
   "source": [
    "27. Write a NumPy program to create a 3x3 identity matrix, i.e. diagonal\n",
    "elements are 1, the rest are 0. ."
   ]
  },
  {
   "cell_type": "code",
   "execution_count": 48,
   "id": "1ae2c2b5",
   "metadata": {},
   "outputs": [
    {
     "data": {
      "text/plain": [
       "array([[1., 0., 0.],\n",
       "       [0., 1., 0.],\n",
       "       [0., 0., 1.]])"
      ]
     },
     "execution_count": 48,
     "metadata": {},
     "output_type": "execute_result"
    }
   ],
   "source": [
    "np.eye(3)"
   ]
  },
  {
   "cell_type": "markdown",
   "id": "34446459",
   "metadata": {},
   "source": [
    "28. Write a NumPy program to create a 10x10 matrix, in which the elements on\n",
    "the borders will be equal to 1, and inside 0. ."
   ]
  },
  {
   "cell_type": "code",
   "execution_count": 54,
   "id": "2642cfce",
   "metadata": {},
   "outputs": [
    {
     "data": {
      "text/plain": [
       "array([[1., 1., 1., 1., 1., 1., 1., 1., 1., 1.],\n",
       "       [1., 0., 0., 0., 0., 0., 0., 0., 0., 1.],\n",
       "       [1., 0., 0., 0., 0., 0., 0., 0., 0., 1.],\n",
       "       [1., 0., 0., 0., 0., 0., 0., 0., 0., 1.],\n",
       "       [1., 0., 0., 0., 0., 0., 0., 0., 0., 1.],\n",
       "       [1., 0., 0., 0., 0., 0., 0., 0., 0., 1.],\n",
       "       [1., 0., 0., 0., 0., 0., 0., 0., 0., 1.],\n",
       "       [1., 0., 0., 0., 0., 0., 0., 0., 0., 1.],\n",
       "       [1., 0., 0., 0., 0., 0., 0., 0., 0., 1.],\n",
       "       [1., 1., 1., 1., 1., 1., 1., 1., 1., 1.]])"
      ]
     },
     "execution_count": 54,
     "metadata": {},
     "output_type": "execute_result"
    }
   ],
   "source": [
    "m = np.zeros((10,10))\n",
    "m[0:,0] = 1\n",
    "m[0:,9]= 1\n",
    "m[0] = 1\n",
    "m[9] = 1\n",
    "m"
   ]
  },
  {
   "cell_type": "markdown",
   "id": "7a3da3db",
   "metadata": {},
   "source": [
    "\n",
    "29. Write a NumPy program to create a 5x5 zero matrix with elements on the\n",
    "main diagonal equal to 1, 2, 3, 4, 5. ."
   ]
  },
  {
   "cell_type": "code",
   "execution_count": 45,
   "id": "137dedfc",
   "metadata": {},
   "outputs": [
    {
     "data": {
      "text/plain": [
       "array([[1., 0., 0., 0., 0.],\n",
       "       [0., 2., 0., 0., 0.],\n",
       "       [0., 0., 3., 0., 0.],\n",
       "       [0., 0., 0., 4., 0.],\n",
       "       [0., 0., 0., 0., 5.]])"
      ]
     },
     "execution_count": 45,
     "metadata": {},
     "output_type": "execute_result"
    }
   ],
   "source": [
    "a = np.zeros((5,5))\n",
    "num = 0\n",
    "for i in range (5):\n",
    "    num = num+1\n",
    "    a[i,i] = num\n",
    "a"
   ]
  },
  {
   "cell_type": "markdown",
   "id": "fb446240",
   "metadata": {},
   "source": [
    "30. Write a NumPy program to create a 4x4 matrix in which 0 and 1 are\n",
    "staggered, with zeros on the main diagonal. ."
   ]
  },
  {
   "cell_type": "code",
   "execution_count": 3,
   "id": "f2314b10",
   "metadata": {},
   "outputs": [
    {
     "data": {
      "text/plain": [
       "array([[0., 1., 0., 1.],\n",
       "       [1., 0., 1., 0.],\n",
       "       [0., 1., 0., 1.],\n",
       "       [1., 0., 1., 0.]])"
      ]
     },
     "execution_count": 3,
     "metadata": {},
     "output_type": "execute_result"
    }
   ],
   "source": [
    "import numpy as np\n",
    "x = np.zeros((4, 4))\n",
    "x[::2, 1::2] = 1\n",
    "x[1::2, ::2] = 1\n",
    "x"
   ]
  },
  {
   "cell_type": "markdown",
   "id": "cef0a2e8",
   "metadata": {},
   "source": [
    "31. Write a NumPy program to create a 3x3x3 array filled with arbitrary values. ."
   ]
  },
  {
   "cell_type": "code",
   "execution_count": 5,
   "id": "550c84e1",
   "metadata": {},
   "outputs": [
    {
     "data": {
      "text/plain": [
       "array([[[0.98826337, 0.39246569, 0.90226456, 0.03455041],\n",
       "        [0.89538461, 0.21463981, 0.31985695, 0.25430552],\n",
       "        [0.10257266, 0.7066464 , 0.23864306, 0.67543837],\n",
       "        [0.5675846 , 0.4413419 , 0.06134478, 0.10253171]],\n",
       "\n",
       "       [[0.58830967, 0.87014213, 0.26923622, 0.29413566],\n",
       "        [0.68439306, 0.07622918, 0.19635875, 0.47334823],\n",
       "        [0.23567471, 0.54635309, 0.30311268, 0.44161149],\n",
       "        [0.23366858, 0.16097992, 0.86767931, 0.90678475]],\n",
       "\n",
       "       [[0.7753382 , 0.37186679, 0.19079566, 0.33082252],\n",
       "        [0.45866477, 0.62706841, 0.76265744, 0.29121839],\n",
       "        [0.7592359 , 0.16160926, 0.36654396, 0.84799985],\n",
       "        [0.87725793, 0.33646782, 0.73985768, 0.21765572]],\n",
       "\n",
       "       [[0.11559516, 0.80907554, 0.60345993, 0.55098279],\n",
       "        [0.44607447, 0.28903795, 0.62383011, 0.30572399],\n",
       "        [0.11797192, 0.00848474, 0.01601459, 0.26296972],\n",
       "        [0.65988842, 0.19293365, 0.17163377, 0.32527211]]])"
      ]
     },
     "execution_count": 5,
     "metadata": {},
     "output_type": "execute_result"
    }
   ],
   "source": [
    "x = np.random.random((4, 4, 4))\n",
    "x"
   ]
  },
  {
   "cell_type": "markdown",
   "id": "5254dbd6",
   "metadata": {},
   "source": [
    "32. Write a NumPy program to compute sum of all elements, sum of each column and sum of each row of a given array. ."
   ]
  },
  {
   "cell_type": "code",
   "execution_count": 12,
   "id": "cb9ad61c",
   "metadata": {},
   "outputs": [
    {
     "name": "stdout",
     "output_type": "stream",
     "text": [
      "original array\n",
      "[[0 1]\n",
      " [2 3]]\n",
      "sum of all elements:\n",
      "6\n",
      "sum of each column:\n",
      "[2 4]\n",
      "sum of each row:\n",
      "[1 5]\n"
     ]
    }
   ],
   "source": [
    "x = np.array([[0,1],[2,3]])\n",
    "print(\"original array\")\n",
    "print(x)\n",
    "print(\"sum of all elements:\")\n",
    "print(np.sum(x))\n",
    "print(\"sum of each column:\")\n",
    "print(np.sum(x, axis=0))\n",
    "print(\"sum of each row:\")\n",
    "print (np.sum(x, axis=1))\n",
    "\n"
   ]
  },
  {
   "cell_type": "markdown",
   "id": "dcbfe63f",
   "metadata": {},
   "source": [
    "33. Write a NumPy program to compute the inner product of two given vectors. ."
   ]
  },
  {
   "cell_type": "code",
   "execution_count": 13,
   "id": "11ccbf68",
   "metadata": {},
   "outputs": [
    {
     "name": "stdout",
     "output_type": "stream",
     "text": [
      "original vectors:\n",
      "[5 6]\n",
      "[7 8]\n",
      "the inner product of said vectors:\n",
      "83\n"
     ]
    }
   ],
   "source": [
    "x = np.array([5, 6])\n",
    "y = np.array([7, 8])\n",
    "print (\"original vectors:\")\n",
    "print(x)\n",
    "print(y)\n",
    "print(\"the inner product of said vectors:\")\n",
    "print(np.dot(x, y))"
   ]
  },
  {
   "cell_type": "markdown",
   "id": "3ab6d80c",
   "metadata": {},
   "source": [
    "34. Write a NumPy program to add a vector to each row of a given matrix. ."
   ]
  },
  {
   "cell_type": "code",
   "execution_count": 21,
   "id": "ca08c34f",
   "metadata": {},
   "outputs": [
    {
     "name": "stdout",
     "output_type": "stream",
     "text": [
      "original vector\n",
      "[1 1 1]\n",
      "original matrix\n",
      "[[ 1  2  3]\n",
      " [ 4  5  6]\n",
      " [ 7  8  9]\n",
      " [10 11 12]]\n",
      "\n",
      "after adding the vector v to each row of the matrix m:\n",
      "[[ 2  3  4]\n",
      " [ 4  5  6]\n",
      " [ 7  8  9]\n",
      " [10 11 12]]\n",
      "\n",
      "after adding the vector v to each row of the matrix m:\n",
      "[[ 2  3  4]\n",
      " [ 5  6  7]\n",
      " [ 7  8  9]\n",
      " [10 11 12]]\n",
      "\n",
      "after adding the vector v to each row of the matrix m:\n",
      "[[ 2  3  4]\n",
      " [ 5  6  7]\n",
      " [ 8  9 10]\n",
      " [10 11 12]]\n",
      "\n",
      "after adding the vector v to each row of the matrix m:\n",
      "[[ 2  3  4]\n",
      " [ 5  6  7]\n",
      " [ 8  9 10]\n",
      " [11 12 13]]\n"
     ]
    }
   ],
   "source": [
    "m = np.array([[1,2,3], [4,5,6], [7,8,9], [10,11,12]])\n",
    "v = np.array([1, 1, 1])\n",
    "print(\"original vector\")\n",
    "print(v)\n",
    "print(\"original matrix\")\n",
    "print(m)\n",
    "result = np.empty_like(m)\n",
    "for i in range(4):\n",
    "    result[i, :] = m[i, :] + v\n",
    "    print(\"\\nafter adding the vector v to each row of the matrix m:\")\n",
    "    print(result)\n"
   ]
  },
  {
   "cell_type": "markdown",
   "id": "a372d06d",
   "metadata": {},
   "source": [
    "35. Write a NumPy program to save a given array to a binary file . ."
   ]
  },
  {
   "cell_type": "code",
   "execution_count": 27,
   "id": "e35e4bf8",
   "metadata": {},
   "outputs": [
    {
     "ename": "IndentationError",
     "evalue": "unexpected indent (Temp/ipykernel_8456/938505150.py, line 7)",
     "output_type": "error",
     "traceback": [
      "\u001b[1;36m  File \u001b[1;32m\"C:\\Users\\User\\AppData\\Local\\Temp/ipykernel_8456/938505150.py\"\u001b[1;36m, line \u001b[1;32m7\u001b[0m\n\u001b[1;33m    print(np.array_equal(a, x2))\u001b[0m\n\u001b[1;37m    ^\u001b[0m\n\u001b[1;31mIndentationError\u001b[0m\u001b[1;31m:\u001b[0m unexpected indent\n"
     ]
    }
   ],
   "source": [
    "import os\n",
    "a = np.array(20)\n",
    "np.save('temp_arra.npy', a)\n",
    "print(\"check if 'temp_arra.npy' exist or not?\")\n",
    "if os.path.exists('temp_arra.npy'):\n",
    "    x2 = np.load('temp_arra.npy')\n",
    "        print(np.array_equal(a, x2)) "
   ]
  },
  {
   "cell_type": "code",
   "execution_count": null,
   "id": "132f128c",
   "metadata": {},
   "outputs": [],
   "source": []
  },
  {
   "cell_type": "code",
   "execution_count": null,
   "id": "44b0b17a",
   "metadata": {},
   "outputs": [],
   "source": []
  }
 ],
 "metadata": {
  "kernelspec": {
   "display_name": "Python 3 (ipykernel)",
   "language": "python",
   "name": "python3"
  },
  "language_info": {
   "codemirror_mode": {
    "name": "ipython",
    "version": 3
   },
   "file_extension": ".py",
   "mimetype": "text/x-python",
   "name": "python",
   "nbconvert_exporter": "python",
   "pygments_lexer": "ipython3",
   "version": "3.9.7"
  }
 },
 "nbformat": 4,
 "nbformat_minor": 5
}
